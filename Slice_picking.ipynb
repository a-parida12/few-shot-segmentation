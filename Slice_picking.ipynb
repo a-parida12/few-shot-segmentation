{
 "cells": [
  {
   "cell_type": "code",
   "execution_count": 26,
   "metadata": {},
   "outputs": [],
   "source": [
    "import numpy as np\n",
    "from utils.data_utils import get_imdb_dataset\n",
    "from utils.evaluator import binarize_label\n",
    "import torch\n",
    "import matplotlib.pyplot as plt\n",
    "import torch.nn.functional as F\n"
   ]
  },
  {
   "cell_type": "code",
   "execution_count": 2,
   "metadata": {},
   "outputs": [
    {
     "name": "stdout",
     "output_type": "stream",
     "text": [
      "Loading dataset\nTrain size: 2576\nTest size: 304\n"
     ]
    }
   ],
   "source": [
    "data_params = dict({'data_dir': \"datasets/silver_corpus\",\n",
    "'train_data_file' : \"Data_train.h5\",\n",
    "'train_label_file' : \"Label_train.h5\",\n",
    "'train_class_weights_file' : \"Class_Weight_train.h5\",\n",
    "'train_weights_file' : \"Weight_train.h5\",\n",
    "'test_data_file' : \"Data_test.h5\",\n",
    "'test_label_file' : \"Label_test.h5\",\n",
    "'test_class_weights_file' : \"Class_Weight_test.h5\",\n",
    "'test_weights_file' : \"Weight_test.h5\",\n",
    "'labels' : [\"Background\", \"Left WM\", \"Left Cortex\", \"Left Lateral ventricle\", \"Left Inf LatVentricle\", \"Left Cerebellum WM\", \"Left Cerebellum Cortex\", \"Left Thalamus\", \"Left Caudate\", \"Left Putamen\", \"Left Pallidum\", \"3rd Ventricle\", \"4th Ventricle\", \"Brain Stem\", \"Left Hippocampus\", \"Left Amygdala\", \"CSF (Cranial)\", \"Left Accumbens\", \"Left Ventral DC\", \"Right WM\", \"Right Cortex\", \"Right Lateral Ventricle\", \"Right Inf LatVentricle\", \"Right Cerebellum WM\", \"Right Cerebellum Cortex\", \"Right Thalamus\", \"Right Caudate\", \"Right Putamen\", \"Right Pallidum\", \"Right Hippocampus\", \"Right Amygdala\", \"Right Accumbens\", \"Right Ventral DC\"]\n",
    "                   })\n",
    "\n",
    "def load_data(data_params):\n",
    "    print(\"Loading dataset\")\n",
    "    train_data, test_data = get_imdb_dataset(data_params)\n",
    "    print(\"Train size: %i\" % len(train_data))\n",
    "    print(\"Test size: %i\" % len(test_data))\n",
    "    return train_data, test_data\n",
    "\n",
    "train_data, test_data = load_data(data_params)"
   ]
  },
  {
   "cell_type": "code",
   "execution_count": 283,
   "metadata": {
    "collapsed": false
   },
   "outputs": [],
   "source": [
    "class_label = 7\n",
    "fold = '2'\n",
    "\n",
    "X, y = train_data.X, train_data.y\n",
    "y = (y == class_label)\n",
    "y = y.astype(np.float32)\n",
    "\n",
    "batch_size, _, _ = y.shape\n",
    "\n",
    "slice_with_class = np.sum(y.reshape(batch_size, -1), axis=1) > 10\n",
    "X = X[slice_with_class]\n",
    "y = y[slice_with_class]\n",
    "\n",
    "query_slice = np.random.randint(0, len(X))\n",
    "support_slice = np.random.randint(0, len(X))\n",
    "\n",
    "\n",
    "no_skip_model = torch.load('saved_models/sne_position_all_type_spatial_fold'+fold+'.pth.tar')\n",
    "# skip_model = torch.load('saved_models/sne_position_all_type_spatial_skipconn_baseline_fold'+fold+'.pth.tar')\n",
    "\n",
    "no_skip_model.cuda()\n",
    "no_skip_model.eval()\n",
    "# skip_model.cuda()\n",
    "# skip_model.eval()\n",
    "\n",
    "query_input = torch.tensor(X[query_slice])\n",
    "query_gt = torch.tensor(y[query_slice])\n",
    "\n",
    "support_input = torch.tensor(X[support_slice])\n",
    "support_gt = torch.tensor(y[support_slice])\n",
    "\n",
    "support_gt = support_gt.unsqueeze(0)\n",
    "\n",
    "condition_input = torch.cat((support_input, support_gt), dim=0)\n",
    "\n",
    "query_input = query_input.unsqueeze(0)\n",
    "condition_input = condition_input.unsqueeze(0)\n",
    "\n",
    "query_input = query_input.cuda()\n",
    "condition_input = condition_input.cuda()\n",
    "\n",
    "weights = no_skip_model.conditioner(condition_input)\n",
    "out = no_skip_model.segmentor(query_input, weights)\n",
    "\n",
    "_, segmentation_no_chhapa = torch.max(F.softmax(out, dim=1), dim=1)\n",
    "\n",
    "# weights = skip_model.conditioner(condition_input)\n",
    "# out = skip_model.segmentor(query_input, weights)\n",
    "\n",
    "# _, segmentation_chhapa = torch.max(F.softmax(out, dim=1), dim=1)\n",
    "\n",
    "ncols = 5\n",
    "fig, ax = plt.subplots(nrows=1, ncols=ncols, figsize=(20, 10), squeeze=False)\n",
    "\n",
    "ax[0][0].imshow(torch.squeeze(query_input), cmap='gray', vmin=0, vmax=1)\n",
    "ax[0][0].set_title(\"Query Input\", fontsize=10, color=\"blue\")\n",
    "ax[0][0].axis('off')\n",
    "ax[0][1].imshow(torch.squeeze(query_gt), cmap='gray', vmin=0, vmax=1)\n",
    "ax[0][1].set_title(\"Query GT\", fontsize=10, color=\"blue\")\n",
    "ax[0][1].axis('off')\n",
    "ax[0][2].imshow(torch.squeeze(segmentation_no_chhapa), cmap='gray', vmin=0, vmax=1)\n",
    "ax[0][2].set_title(\"No Chhapa\", fontsize=10, color=\"blue\")\n",
    "ax[0][2].axis('off')\n",
    "# ax[0][3].imshow(torch.squeeze(segmentation_chhapa), cmap='gray', vmin=0, vmax=1)\n",
    "# ax[0][3].set_title(\"Chhapa\", fontsize=10, color=\"blue\")\n",
    "# ax[0][3].axis('off')\n",
    "ax[0][3].imshow(torch.squeeze(support_input), cmap='gray', vmin=0, vmax=1)\n",
    "ax[0][3].set_title(\"Support Input\", fontsize=10, color=\"blue\")\n",
    "ax[0][3].axis('off')\n",
    "ax[0][4].imshow(torch.squeeze(support_gt), cmap='gray', vmin=0, vmax=1)\n",
    "ax[0][4].set_title(\"Support GT\", fontsize=10, color=\"blue\")\n",
    "ax[0][4].axis('off')\n",
    "\n",
    "fig.set_tight_layout(True)\n",
    "plt.show()\n"
   ]
  },
  {
   "cell_type": "code",
   "execution_count": null,
   "metadata": {},
   "outputs": [],
   "source": []
  }
 ],
 "metadata": {
  "kernelspec": {
   "display_name": "Python 3",
   "language": "python",
   "name": "python3"
  },
  "language_info": {
   "codemirror_mode": {
    "name": "ipython",
    "version": 3
   },
   "file_extension": ".py",
   "mimetype": "text/x-python",
   "name": "python",
   "nbconvert_exporter": "python",
   "pygments_lexer": "ipython3",
   "version": "3.6.6"
  }
 },
 "nbformat": 4,
 "nbformat_minor": 2
}
